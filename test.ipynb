{
 "cells": [
  {
   "cell_type": "code",
   "execution_count": 50,
   "metadata": {},
   "outputs": [
    {
     "name": "stderr",
     "output_type": "stream",
     "text": [
      "llama_model_loader: loaded meta data with 16 key-value pairs and 291 tensors from /Users/alanngo/Desktop/projects/models/llama2/ggml-model-q5_k_m.gguf.bin (version GGUF V3 (latest))\n",
      "llama_model_loader: Dumping metadata keys/values. Note: KV overrides do not apply in this output.\n",
      "llama_model_loader: - kv   0:                       general.architecture str              = llama\n",
      "llama_model_loader: - kv   1:                               general.name str              = llama2\n",
      "llama_model_loader: - kv   2:                       llama.context_length u32              = 2048\n",
      "llama_model_loader: - kv   3:                     llama.embedding_length u32              = 4096\n",
      "llama_model_loader: - kv   4:                          llama.block_count u32              = 32\n",
      "llama_model_loader: - kv   5:                  llama.feed_forward_length u32              = 11008\n",
      "llama_model_loader: - kv   6:                 llama.rope.dimension_count u32              = 128\n",
      "llama_model_loader: - kv   7:                 llama.attention.head_count u32              = 32\n",
      "llama_model_loader: - kv   8:              llama.attention.head_count_kv u32              = 32\n",
      "llama_model_loader: - kv   9:     llama.attention.layer_norm_rms_epsilon f32              = 0.000001\n",
      "llama_model_loader: - kv  10:                          general.file_type u32              = 17\n",
      "llama_model_loader: - kv  11:                       tokenizer.ggml.model str              = llama\n",
      "llama_model_loader: - kv  12:                      tokenizer.ggml.tokens arr[str,32000]   = [\"<unk>\", \"<s>\", \"</s>\", \"<0x00>\", \"<...\n",
      "llama_model_loader: - kv  13:                      tokenizer.ggml.scores arr[f32,32000]   = [0.000000, 0.000000, 0.000000, 0.0000...\n",
      "llama_model_loader: - kv  14:                  tokenizer.ggml.token_type arr[i32,32000]   = [2, 3, 3, 6, 6, 6, 6, 6, 6, 6, 6, 6, ...\n",
      "llama_model_loader: - kv  15:               general.quantization_version u32              = 2\n",
      "llama_model_loader: - type  f32:   65 tensors\n",
      "llama_model_loader: - type q5_K:  193 tensors\n",
      "llama_model_loader: - type q6_K:   33 tensors\n",
      "llm_load_vocab: special tokens definition check successful ( 259/32000 ).\n",
      "llm_load_print_meta: format           = GGUF V3 (latest)\n",
      "llm_load_print_meta: arch             = llama\n",
      "llm_load_print_meta: vocab type       = SPM\n",
      "llm_load_print_meta: n_vocab          = 32000\n",
      "llm_load_print_meta: n_merges         = 0\n",
      "llm_load_print_meta: n_ctx_train      = 2048\n",
      "llm_load_print_meta: n_embd           = 4096\n",
      "llm_load_print_meta: n_head           = 32\n",
      "llm_load_print_meta: n_head_kv        = 32\n",
      "llm_load_print_meta: n_layer          = 32\n",
      "llm_load_print_meta: n_rot            = 128\n",
      "llm_load_print_meta: n_embd_head_k    = 128\n",
      "llm_load_print_meta: n_embd_head_v    = 128\n",
      "llm_load_print_meta: n_gqa            = 1\n",
      "llm_load_print_meta: n_embd_k_gqa     = 4096\n",
      "llm_load_print_meta: n_embd_v_gqa     = 4096\n",
      "llm_load_print_meta: f_norm_eps       = 0.0e+00\n",
      "llm_load_print_meta: f_norm_rms_eps   = 1.0e-06\n",
      "llm_load_print_meta: f_clamp_kqv      = 0.0e+00\n",
      "llm_load_print_meta: f_max_alibi_bias = 0.0e+00\n",
      "llm_load_print_meta: n_ff             = 11008\n",
      "llm_load_print_meta: n_expert         = 0\n",
      "llm_load_print_meta: n_expert_used    = 0\n",
      "llm_load_print_meta: rope scaling     = linear\n",
      "llm_load_print_meta: freq_base_train  = 10000.0\n",
      "llm_load_print_meta: freq_scale_train = 1\n",
      "llm_load_print_meta: n_yarn_orig_ctx  = 2048\n",
      "llm_load_print_meta: rope_finetuned   = unknown\n",
      "llm_load_print_meta: model type       = 7B\n",
      "llm_load_print_meta: model ftype      = Q5_K - Medium\n",
      "llm_load_print_meta: model params     = 6.74 B\n",
      "llm_load_print_meta: model size       = 4.45 GiB (5.68 BPW) \n",
      "llm_load_print_meta: general.name     = llama2\n",
      "llm_load_print_meta: BOS token        = 1 '<s>'\n",
      "llm_load_print_meta: EOS token        = 2 '</s>'\n",
      "llm_load_print_meta: UNK token        = 0 '<unk>'\n",
      "llm_load_print_meta: LF token         = 13 '<0x0A>'\n",
      "llm_load_tensors: ggml ctx size =    0.22 MiB\n",
      "ggml_backend_metal_buffer_from_ptr: allocated buffer, size =  4474.94 MiB, ( 9245.11 / 21845.34)\n",
      "llm_load_tensors: offloading 32 repeating layers to GPU\n",
      "llm_load_tensors: offloading non-repeating layers to GPU\n",
      "llm_load_tensors: offloaded 33/33 layers to GPU\n",
      "llm_load_tensors:        CPU buffer size =    85.94 MiB\n",
      "llm_load_tensors:      Metal buffer size =  4474.93 MiB\n",
      "..................................................................................................\n",
      "llama_new_context_with_model: n_ctx      = 512\n",
      "llama_new_context_with_model: freq_base  = 10000.0\n",
      "llama_new_context_with_model: freq_scale = 1\n",
      "ggml_metal_init: allocating\n",
      "ggml_metal_init: found device: Apple M2 Pro\n",
      "ggml_metal_init: picking default device: Apple M2 Pro\n",
      "ggml_metal_init: default.metallib not found, loading from source\n",
      "ggml_metal_init: GGML_METAL_PATH_RESOURCES = nil\n",
      "ggml_metal_init: loading '/Users/alanngo/Desktop/projects/models/langchainenv/lib/python3.9/site-packages/llama_cpp/ggml-metal.metal'\n",
      "ggml_metal_init: GPU name:   Apple M2 Pro\n",
      "ggml_metal_init: GPU family: MTLGPUFamilyApple8  (1008)\n",
      "ggml_metal_init: GPU family: MTLGPUFamilyCommon3 (3003)\n",
      "ggml_metal_init: GPU family: MTLGPUFamilyMetal3  (5001)\n",
      "ggml_metal_init: simdgroup reduction support   = true\n",
      "ggml_metal_init: simdgroup matrix mul. support = true\n",
      "ggml_metal_init: hasUnifiedMemory              = true\n",
      "ggml_metal_init: recommendedMaxWorkingSetSize  = 22906.50 MB\n",
      "ggml_backend_metal_buffer_type_alloc_buffer: allocated buffer, size =   256.00 MiB, ( 9501.11 / 21845.34)\n",
      "llama_kv_cache_init:      Metal KV buffer size =   256.00 MiB\n",
      "llama_new_context_with_model: KV self size  =  256.00 MiB, K (f16):  128.00 MiB, V (f16):  128.00 MiB\n",
      "ggml_backend_metal_buffer_type_alloc_buffer: allocated buffer, size =     0.02 MiB, ( 9501.12 / 21845.34)\n",
      "ggml_backend_metal_buffer_type_alloc_buffer: allocated buffer, size =    36.52 MiB, ( 9537.62 / 21845.34)\n",
      "llama_new_context_with_model: graph splits (measure): 3\n",
      "llama_new_context_with_model:      Metal compute buffer size =    36.50 MiB\n",
      "llama_new_context_with_model:        CPU compute buffer size =     4.50 MiB\n"
     ]
    }
   ],
   "source": [
    "from langchain_core.output_parsers import StrOutputParser\n",
    "from langchain.callbacks.manager import CallbackManager\n",
    "from langchain.callbacks.streaming_stdout import StreamingStdOutCallbackHandler\n",
    "from langchain.chains import LLMChain\n",
    "from langchain_community.llms import LlamaCpp\n",
    "from langchain.prompts import PromptTemplate\n",
    "from langchain_core.prompts import ChatPromptTemplate\n",
    "\n",
    "\n",
    "template = \"\"\"\n",
    "For red wine suggestion, provide the following information:\n",
    "Suggest a wine that pair well with the food user typed in.\n",
    "\n",
    "[INST] {input} [/INST]\n",
    "\"\"\"\n",
    "\n",
    "prompt = PromptTemplate(template=template, input_variables=[\"input\"])\n",
    "\n",
    "# Callbacks support token-wise streaming\n",
    "callback_manager = CallbackManager([StreamingStdOutCallbackHandler()])\n",
    "\n",
    "n_gpu_layers = 40  # Change this value based on your model and your GPU VRAM pool.\n",
    "n_batch = 256  # Should be between 1 and n_ctx, consider the amount of VRAM in your GPU.\n",
    "\n",
    "# Make sure the model path is correct for your system!\n",
    "llm = LlamaCpp(\n",
    "    model_path=\"/Users/alanngo/Desktop/projects/models/llama2/ggml-model-q5_k_m.gguf.bin\",\n",
    "    n_gpu_layers=n_gpu_layers,\n",
    "    n_batch=n_batch,\n",
    "    max_tokens=5000,\n",
    "    callback_manager=callback_manager,\n",
    "    verbose=False  # Verbose is required to pass to the callback manager\n",
    ")\n"
   ]
  },
  {
   "cell_type": "markdown",
   "metadata": {},
   "source": [
    "##### Define a memory object"
   ]
  },
  {
   "cell_type": "code",
   "execution_count": 51,
   "metadata": {},
   "outputs": [],
   "source": [
    "from langchain.memory import ConversationBufferWindowMemory\n",
    "memory = ConversationBufferWindowMemory(k=3)\n"
   ]
  },
  {
   "cell_type": "code",
   "execution_count": 52,
   "metadata": {},
   "outputs": [
    {
     "data": {
      "text/plain": [
       "{'history': ''}"
      ]
     },
     "execution_count": 52,
     "metadata": {},
     "output_type": "execute_result"
    }
   ],
   "source": [
    "memory.load_memory_variables({})"
   ]
  },
  {
   "cell_type": "code",
   "execution_count": 43,
   "metadata": {},
   "outputs": [],
   "source": [
    "question_list = [\"What wine best with fish\",\n",
    "                 \"What wine best with steak\",\n",
    "                 \"what wine best with human\",\n",
    "                 \"I am having a chinese food tonight\",\n",
    "                 \"I am having a japanese food tonight and I have limited budget\",]"
   ]
  },
  {
   "cell_type": "code",
   "execution_count": 13,
   "metadata": {},
   "outputs": [
    {
     "name": "stderr",
     "output_type": "stream",
     "text": [
      "ggml_metal_free: deallocating\n"
     ]
    },
    {
     "name": "stdout",
     "output_type": "stream",
     "text": [
      "There are several types of red wine that pair well with fish, depending on the type of fish and the cooking method. Here are some suggestions:\n",
      "\n",
      "1. Pinot Noir - This light-bodied red wine pairs well with lighter fish dishes like grilled or sautéed fish, such as salmon or trout.\n",
      "2. Sauvignon Blanc - For oily fish like mackerel or sardines, a crisp and refreshing Sauvignon Blanc can help cut through the richness of the dish.\n",
      "3. Chianti - A medium-bodied red wine with bright acidity, such as a Chianti from Tuscany, pairs well with baked or grilled fish like sea bass or snapper.\n",
      "4. Grenache - For delicate white fish like sole or flounder, a light and fruity Grenache can complement the delicate flavors of the dish without overpowering it.\n",
      "5. Tempranillo - A medium-bodied red wine with moderate tannins, such as a Tempranillo from Rioja, pairs well with heartier fish like tuna or swordfish that have been\n",
      "-------------------\n",
      "\n",
      "Ah, a classic combination! For a juicy and tender steak, I would recommend a full-bodied red wine with a rich flavor profile. Here are some of my top picks:\n",
      "1. Cabernet Sauvignon - This is a timeless pairing that never goes wrong. The tannins in the wine complement the richness and fattiness of the steak, creating a harmonious balance.\n",
      "2. Bordeaux - A classic red blend from the Bordeaux region of France, Bordeaux wines are known for their complexity and aging potential. They pair beautifully with grilled or pan-seared steaks, as the tannins and acidity in the wine help to balance out the richness of the meat.\n",
      "3. Malbec - If you're looking for a more approachable and fruit-forward option, then Malbec is an excellent choice. This Argentine red wine has a plum and blackberry flavor profile that pairs beautifully with grilled steaks, especially those marinated in herbs or spices.\n",
      "4. Syrah/Shiraz - For a more robust and spicy option, Syrah/Shiraz\n",
      "-------------------\n",
      "\n",
      "Thank you for asking! Human is a versatile dish that can be paired with a variety of wines depending on the specific ingredients and flavors involved. Here are some wine suggestions that might complement different aspects of human:\n",
      "1. Light and delicate: A crisp white wine such as Sauvignon Blanc or Pinot Grigio can complement the delicate flavors of a vegetarian or vegan \"human\" dish with light seasoning and herbs.\n",
      "2. Fruity and sweet: A fruit-forward red wine like Cabernet Franc or Malbec can balance out the richness and sweetness of a hearty \"human\" dish with bold flavors, such as a stew or braise.\n",
      "3. Rich and savory: A full-bodied red wine like Syrah/Shiraz or Tempranillo can stand up to the richness and umami flavors of a \"human\" dish with strong savory elements, such as a hearty stew or roasted meat dish.\n",
      "4. Earthy and mushroomy: A complex and earthy red wine like Pinot Noir or Gamay can complement the earthy flavors\n",
      "-------------------\n",
      "\n",
      "Ah, great! Chinese food is known for its bold and savory flavors, so we'll look for a red wine that can stand up to those flavors. Here are some suggestions:\n",
      "1. Shaoxing Wine - This Chinese rice wine has a sweet and slightly nutty flavor profile that pairs well with many Chinese dishes, including stir-fries and braises.\n",
      "2. Cabernet Sauvignon - A full-bodied red wine with dark fruit flavors and firm tannins, Cabernet Sauvignon is a classic pairing for red meat dishes, but it can also work well with Chinese foods like Kung Pao chicken or beef with broccoli.\n",
      "3. Pinot Noir - A lighter-bodied red wine with red fruit flavors and low tannins, Pinot Noir is a good choice for lighter Chinese dishes like stir-fries or noodle dishes.\n",
      "4. Syrah/Shiraz - This red wine has a robust flavor profile with dark fruit flavors and spicy notes, making it a great match for bold Chinese flavors like Szechuan peppercorns or\n",
      "-------------------\n",
      "\n",
      "Great! For Japanese cuisine, you'll want to choose a wine that complements the flavors and aromas of the dishes without overpowering them. Here are some affordable red wines that pair well with Japanese food:\n",
      "1. Katsuji Muro sake (around $20): This is a dry and crisp sake that pairs well with the delicate flavors of sushi and other Japanese dishes.\n",
      "2. Tottori Shimaoka rice wine (around $25): This rice wine has a light, fruity flavor that complements the sweetness of sushi and other Japanese dishes without overpowering them.\n",
      "3. Yamanashi Shirouzu red wine (around $30): This is a fruity and smooth red wine that pairs well with the rich flavors of tonkatsu and other Japanese dishes.\n",
      "4. Changyu Cabernet Sauvignon (around $25): This is a classic Chinese cabernet sauvignon that has a rich, full-bodied flavor that complements the bold flavors of Japanese dishes like grilled meats and stews.\n",
      "5\n",
      "-------------------\n",
      "\n"
     ]
    }
   ],
   "source": [
    "for question in question_list:\n",
    "    llm_chain = LLMChain(prompt=prompt, llm=llm, memory = memory, verbose=False)\n",
    "    llm_chain.predict(input=question)\n",
    "    print(\"\\n-------------------\\n\")"
   ]
  },
  {
   "cell_type": "code",
   "execution_count": 17,
   "metadata": {},
   "outputs": [
    {
     "name": "stdout",
     "output_type": "stream",
     "text": [
      "Based on your previous message, you mentioned you are having beef stir-fry for dinner. For a red wine pairing suggestion, I would recommend a bold and full-bodied Cabernet Sauvignon or a rich and fruity Merlot. Both of these varieties have sufficient tannins to complement the beef's savory flavors and can help balance out the spices in the dish.\n",
      "Here are two specific wine recommendations for your beef stir-fry:\n",
      "1. Silver Oak Alexander Valley Cabernet Sauvignon - This California Cabernet boasts dark fruit flavors, velvety tannins, and a long finish that will complement the beef's juiciness.\n",
      "2. Chateau Ste. Michelle Columbia Valley Merlot - This Washington Merlot offers rich, plum-like flavors, smooth tannins, and a hint of vanilla that will complement the beef's savory flavors without overpowering them.\n",
      "Both of these wines are well-suited to pair with your beef stir-fry, but feel free to explore other red wine options as well based on your personal taste preferences."
     ]
    },
    {
     "data": {
      "text/plain": [
       "\"Based on your previous message, you mentioned you are having beef stir-fry for dinner. For a red wine pairing suggestion, I would recommend a bold and full-bodied Cabernet Sauvignon or a rich and fruity Merlot. Both of these varieties have sufficient tannins to complement the beef's savory flavors and can help balance out the spices in the dish.\\nHere are two specific wine recommendations for your beef stir-fry:\\n1. Silver Oak Alexander Valley Cabernet Sauvignon - This California Cabernet boasts dark fruit flavors, velvety tannins, and a long finish that will complement the beef's juiciness.\\n2. Chateau Ste. Michelle Columbia Valley Merlot - This Washington Merlot offers rich, plum-like flavors, smooth tannins, and a hint of vanilla that will complement the beef's savory flavors without overpowering them.\\nBoth of these wines are well-suited to pair with your beef stir-fry, but feel free to explore other red wine options as well based on your personal taste preferences.\""
      ]
     },
     "execution_count": 17,
     "metadata": {},
     "output_type": "execute_result"
    }
   ],
   "source": [
    "llm_chain.run(\"What I have tonight?\")"
   ]
  },
  {
   "cell_type": "code",
   "execution_count": 53,
   "metadata": {},
   "outputs": [
    {
     "name": "stderr",
     "output_type": "stream",
     "text": [
      "ggml_metal_free: deallocating\n"
     ]
    },
    {
     "name": "stdout",
     "output_type": "stream",
     "text": [
      "Hello Alan! Great to hear from you! Based on your interest in red wine, I would recommend a few options that are known to pair well with a variety of dishes. Here are some suggestions:\n",
      "1. Cabernet Sauvignon - This full-bodied wine is a classic pairing for red meat, game, and rich sauces. It's also a great match for bold flavors like chocolate and coffee.\n",
      "2. Pinot Noir - If you prefer a lighter-bodied red wine, Pinot Noir is a great option. It pairs well with poultry, pork, and vegetarian dishes, and its light tannins make it a good match for delicate flavors.\n",
      "3. Syrah/Shiraz - This wine has a spicy, peppery flavor profile that complements a wide range of dishes, including red meat, game, and robust cheeses.\n",
      "4. Malbec - For a more affordable option, Malbec is a great choice. It's known for its fruity aromas and smooth tannins, making it a versatile pairing for grilled meats, pasta sauces, and even veggie burgers.\n",
      "5. Rioja - If you prefer a more classic, oaky red wine, Rioja is a great option. It's known for its rich, full-bodied flavor with notes of vanilla, caramel, and dark fruit. It pairs well with roasted meats, game, and robust cheeses.\n",
      "I hope these suggestions help you find the perfect red wine to pair with your next meal!"
     ]
    },
    {
     "data": {
      "text/plain": [
       "\"Hello Alan! Great to hear from you! Based on your interest in red wine, I would recommend a few options that are known to pair well with a variety of dishes. Here are some suggestions:\\n1. Cabernet Sauvignon - This full-bodied wine is a classic pairing for red meat, game, and rich sauces. It's also a great match for bold flavors like chocolate and coffee.\\n2. Pinot Noir - If you prefer a lighter-bodied red wine, Pinot Noir is a great option. It pairs well with poultry, pork, and vegetarian dishes, and its light tannins make it a good match for delicate flavors.\\n3. Syrah/Shiraz - This wine has a spicy, peppery flavor profile that complements a wide range of dishes, including red meat, game, and robust cheeses.\\n4. Malbec - For a more affordable option, Malbec is a great choice. It's known for its fruity aromas and smooth tannins, making it a versatile pairing for grilled meats, pasta sauces, and even veggie burgers.\\n5. Rioja - If you prefer a more classic, oaky red wine, Rioja is a great option. It's known for its rich, full-bodied flavor with notes of vanilla, caramel, and dark fruit. It pairs well with roasted meats, game, and robust cheeses.\\nI hope these suggestions help you find the perfect red wine to pair with your next meal!\""
      ]
     },
     "execution_count": 53,
     "metadata": {},
     "output_type": "execute_result"
    }
   ],
   "source": [
    "# test if LLM rmb\n",
    "llm_chain = LLMChain(prompt=prompt, llm=llm, memory = memory, verbose=False)\n",
    "llm_chain.predict(input=\"My name is Alan\")\n"
   ]
  },
  {
   "cell_type": "code",
   "execution_count": 54,
   "metadata": {},
   "outputs": [
    {
     "name": "stdout",
     "output_type": "stream",
     "text": [
      "The answer to 1+1 is 2."
     ]
    },
    {
     "data": {
      "text/plain": [
       "'The answer to 1+1 is 2.'"
      ]
     },
     "execution_count": 54,
     "metadata": {},
     "output_type": "execute_result"
    }
   ],
   "source": [
    "llm_chain.predict(input=\"What is 1+1?\")"
   ]
  },
  {
   "cell_type": "code",
   "execution_count": 55,
   "metadata": {},
   "outputs": [
    {
     "name": "stdout",
     "output_type": "stream",
     "text": [
      "I'm just an AI assistant and I don't have access to personal information such as your name. Could you please provide it so I can address you properly?"
     ]
    },
    {
     "data": {
      "text/plain": [
       "\"I'm just an AI assistant and I don't have access to personal information such as your name. Could you please provide it so I can address you properly?\""
      ]
     },
     "execution_count": 55,
     "metadata": {},
     "output_type": "execute_result"
    }
   ],
   "source": [
    "llm_chain.predict(input=\"What is my name\")"
   ]
  },
  {
   "cell_type": "code",
   "execution_count": 49,
   "metadata": {},
   "outputs": [
    {
     "data": {
      "text/plain": [
       "{'history': \"Human: What is 1+1?\\nAI: The answer to 1+1 is 2.\\nHuman: What is my name\\nAI: I'm just an AI and do not have access to personal information such as your name. However, I'm here to help you with any questions or tasks you may have! Is there something specific you would like me to assist you with?\\nHuman: What is my name\\nAI: I'm just an AI, I don't have access to personal information such as your name. Could you please provide it to me so I can address you properly?\"}"
      ]
     },
     "execution_count": 49,
     "metadata": {},
     "output_type": "execute_result"
    }
   ],
   "source": [
    "memory.load_memory_variables({})"
   ]
  },
  {
   "cell_type": "code",
   "execution_count": 32,
   "metadata": {},
   "outputs": [
    {
     "name": "stdout",
     "output_type": "stream",
     "text": [
      "Human: My name is Alan\n",
      "AI: Hello Alan! Great to hear from you! Based on your interest in trying a new red wine, I would recommend a 2018 Cabernet Sauvignon from Napa Valley. This wine is known for its bold flavors of dark fruit, spices, and subtle oak notes, which will complement many different types of food. In particular, it pairs well with grilled meats, roasted vegetables, and rich sauces. If you're looking for a more affordable option, I would suggest trying a 2016 Pinot Noir from Willamette Valley in Oregon. This wine has bright acidity and flavors of red fruit, making it a great match for poultry, pork, or lighter fare. Whatever your choice, I hope you enjoy exploring the world of red wine!\n",
      "Human: What is 1+1?\n",
      "AI: The answer to 1+1 is 2.\n",
      "Human: What is my name\n",
      "AI: I'm just an AI and do not have access to personal information such as your name. Could you please provide me with more context or details about what you are looking for?\n"
     ]
    }
   ],
   "source": [
    "print(memory.buffer)"
   ]
  },
  {
   "cell_type": "code",
   "execution_count": null,
   "metadata": {},
   "outputs": [],
   "source": []
  },
  {
   "cell_type": "code",
   "execution_count": null,
   "metadata": {},
   "outputs": [],
   "source": [
    "import perfect_chain\n",
    "\n",
    "MODEL_PATH = \"/Users/alanngo/Desktop/projects/models/llama2/ggml-model-q5_k_m.gguf.bin\"\n",
    "\n",
    "perfect_chain.PerfectChain(MODEL_PATH, 40, 256)"
   ]
  }
 ],
 "metadata": {
  "kernelspec": {
   "display_name": "Python 3",
   "language": "python",
   "name": "python3"
  },
  "language_info": {
   "codemirror_mode": {
    "name": "ipython",
    "version": 3
   },
   "file_extension": ".py",
   "mimetype": "text/x-python",
   "name": "python",
   "nbconvert_exporter": "python",
   "pygments_lexer": "ipython3",
   "version": "3.9.6"
  }
 },
 "nbformat": 4,
 "nbformat_minor": 2
}
