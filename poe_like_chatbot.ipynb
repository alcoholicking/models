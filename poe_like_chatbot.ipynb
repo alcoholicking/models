{
 "cells": [
  {
   "cell_type": "markdown",
   "metadata": {},
   "source": [
    "##### Assume userid = 0 if no userid\n",
    "\n",
    "【OPTIONAL】\n",
    "Before everything start \n",
    "-> display history\n",
    "\n",
    "API endpoint will then send POST request\n",
    "{\n",
    "    userid: 0,\n",
    "    prompt: \"Hi I am having Chinese dinner!\",\n",
    "}\n",
    "\n",
    "Backend -> K8S生一個Chain which 有userid extract返history from database\n",
    "later conversation 不斷 chur same K8S until user closed / not response -> closed"
   ]
  },
  {
   "cell_type": "code",
   "execution_count": null,
   "metadata": {},
   "outputs": [],
   "source": [
    "from langchain.prompts import PromptTemplate\n",
    "\n",
    "\n",
    "template = \"\"\"\n",
    "[INST] {input} [/INST]\n",
    "\"\"\"\n",
    "\n",
    "prompt = PromptTemplate(template=template, input_variables=[\"input\"])"
   ]
  },
  {
   "cell_type": "markdown",
   "metadata": {},
   "source": []
  }
 ],
 "metadata": {
  "language_info": {
   "name": "python"
  }
 },
 "nbformat": 4,
 "nbformat_minor": 2
}
